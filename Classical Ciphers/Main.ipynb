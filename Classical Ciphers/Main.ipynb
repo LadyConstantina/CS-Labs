{
 "cells": [
  {
   "cell_type": "code",
   "execution_count": 34,
   "id": "ab4dbff1",
   "metadata": {},
   "outputs": [
    {
     "name": "stdout",
     "output_type": "stream",
     "text": [
      "Welcome to my program! \n",
      "Please follow the requests below. For more infromation, read the README file.\n",
      "\n"
     ]
    },
    {
     "ename": "AttributeError",
     "evalue": "module 'Classical_Ciphers' has no attribute 'starting'",
     "output_type": "error",
     "traceback": [
      "\u001b[1;31m---------------------------------------------------------------------------\u001b[0m",
      "\u001b[1;31mAttributeError\u001b[0m                            Traceback (most recent call last)",
      "Cell \u001b[1;32mIn [34], line 5\u001b[0m\n\u001b[0;32m      2\u001b[0m \u001b[38;5;66;03m#import Classical_Ciphers\u001b[39;00m\n\u001b[0;32m      4\u001b[0m \u001b[38;5;28mprint\u001b[39m(\u001b[38;5;124m\"\u001b[39m\u001b[38;5;124mWelcome to my program! \u001b[39m\u001b[38;5;130;01m\\n\u001b[39;00m\u001b[38;5;124mPlease follow the requests below. For more infromation, read the README file.\u001b[39m\u001b[38;5;130;01m\\n\u001b[39;00m\u001b[38;5;124m\"\u001b[39m)\n\u001b[1;32m----> 5\u001b[0m \u001b[43mClassical_Ciphers\u001b[49m\u001b[38;5;241;43m.\u001b[39;49m\u001b[43mstarting\u001b[49m()\n",
      "\u001b[1;31mAttributeError\u001b[0m: module 'Classical_Ciphers' has no attribute 'starting'"
     ]
    }
   ],
   "source": [
    "from Classical_Ciphers import *\n",
    "\n",
    "print(\"Welcome to my program! \\nPlease follow the requests below. For more infromation, read the README file.\\n\")\n",
    "Classical_Ciphers.starting()\n"
   ]
  }
 ],
 "metadata": {
  "kernelspec": {
   "display_name": "Python 3 (ipykernel)",
   "language": "python",
   "name": "python3"
  },
  "language_info": {
   "codemirror_mode": {
    "name": "ipython",
    "version": 3
   },
   "file_extension": ".py",
   "mimetype": "text/x-python",
   "name": "python",
   "nbconvert_exporter": "python",
   "pygments_lexer": "ipython3",
   "version": "3.9.2"
  }
 },
 "nbformat": 4,
 "nbformat_minor": 5
}
